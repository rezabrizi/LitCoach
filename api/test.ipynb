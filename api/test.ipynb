{
 "cells": [
  {
   "cell_type": "code",
   "execution_count": 1,
   "metadata": {},
   "outputs": [],
   "source": [
    "import api.openai_utils as openai_utils "
   ]
  },
  {
   "cell_type": "code",
   "execution_count": 2,
   "metadata": {},
   "outputs": [
    {
     "name": "stdout",
     "output_type": "stream",
     "text": [
      "data: \n",
      "\n",
      "data: Hello\n",
      "\n",
      "data: !\n",
      "\n",
      "data:  How\n",
      "\n",
      "data:  can\n",
      "\n",
      "data:  I\n",
      "\n",
      "data:  assist\n",
      "\n",
      "data:  you\n",
      "\n",
      "data:  today\n",
      "\n",
      "data: ?\n",
      "\n"
     ]
    }
   ],
   "source": [
    "import os\n",
    "from dotenv import load_dotenv\n",
    "\n",
    "load_dotenv()\n",
    "\n",
    "API_KEY = os.getenv(\"OPENAI_LITCOACH_KEY\")\n",
    "PROJECT_ID = \"proj_tBo3vZb4T5ghUKf96NEzuQNM\"\n",
    "\n",
    "# Initialize the client\n",
    "openai_client = openai_utils.OpenAIClient(API_KEY=API_KEY, project_id=PROJECT_ID)\n",
    "\n",
    "# Test call_chat_model\n",
    "response = openai_client.call_chat_model(\n",
    "    model=\"gpt-4o-mini\",\n",
    "    messages=[\n",
    "        {\"role\": \"developer\", \"content\": \"You are a helpful assistant.\"},\n",
    "        {\"role\": \"user\", \"content\": \"Hello!\"},\n",
    "    ],\n",
    "    stream=True,  # Change to True for streaming\n",
    ")\n",
    "\n",
    "for chunk in response:\n",
    "    print(chunk, end='', flush=True)\n",
    "\n"
   ]
  }
 ],
 "metadata": {
  "kernelspec": {
   "display_name": "LitCoachBackend",
   "language": "python",
   "name": "python3"
  },
  "language_info": {
   "codemirror_mode": {
    "name": "ipython",
    "version": 3
   },
   "file_extension": ".py",
   "mimetype": "text/x-python",
   "name": "python",
   "nbconvert_exporter": "python",
   "pygments_lexer": "ipython3",
   "version": "3.12.1"
  }
 },
 "nbformat": 4,
 "nbformat_minor": 2
}
